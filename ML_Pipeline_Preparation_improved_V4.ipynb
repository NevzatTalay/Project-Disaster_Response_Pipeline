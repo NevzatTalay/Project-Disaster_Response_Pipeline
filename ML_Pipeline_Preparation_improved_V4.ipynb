{
  "cells": [
    {
      "cell_type": "markdown",
      "metadata": {
        "id": "view-in-github",
        "colab_type": "text"
      },
      "source": [
        "<a href=\"https://colab.research.google.com/github/NevzatTalay/Project-Disaster_Response_Pipeline/blob/main/ML_Pipeline_Preparation_improved_V4.ipynb\" target=\"_parent\"><img src=\"https://colab.research.google.com/assets/colab-badge.svg\" alt=\"Open In Colab\"/></a>"
      ]
    },
    {
      "cell_type": "markdown",
      "metadata": {
        "id": "UaSk-xRz1Z3Z"
      },
      "source": [
        "# ML Pipeline Preparation\n",
        "Follow the instructions below to help you create your ML pipeline.\n",
        "### 1. Import libraries and load data from database.\n",
        "- Import Python libraries\n",
        "- Load dataset from database with [`read_sql_table`](https://pandas.pydata.org/pandas-docs/stable/generated/pandas.read_sql_table.html)\n",
        "- Define feature and target variables X and Y"
      ]
    },
    {
      "cell_type": "code",
      "execution_count": 1,
      "metadata": {
        "colab": {
          "base_uri": "https://localhost:8080/"
        },
        "id": "Wq9fzlfO2FbO",
        "outputId": "afb14af4-4a73-4835-8247-4d6687f74ade"
      },
      "outputs": [
        {
          "output_type": "stream",
          "name": "stdout",
          "text": [
            "Collecting sqlalchemy<2.0\n",
            "  Downloading SQLAlchemy-1.4.49-cp310-cp310-manylinux_2_5_x86_64.manylinux1_x86_64.manylinux_2_17_x86_64.manylinux2014_x86_64.whl (1.6 MB)\n",
            "\u001b[2K     \u001b[90m━━━━━━━━━━━━━━━━━━━━━━━━━━━━━━━━━━━━━━━━\u001b[0m \u001b[32m1.6/1.6 MB\u001b[0m \u001b[31m8.3 MB/s\u001b[0m eta \u001b[36m0:00:00\u001b[0m\n",
            "\u001b[?25hRequirement already satisfied: greenlet!=0.4.17 in /usr/local/lib/python3.10/dist-packages (from sqlalchemy<2.0) (3.0.0)\n",
            "Installing collected packages: sqlalchemy\n",
            "  Attempting uninstall: sqlalchemy\n",
            "    Found existing installation: SQLAlchemy 2.0.21\n",
            "    Uninstalling SQLAlchemy-2.0.21:\n",
            "      Successfully uninstalled SQLAlchemy-2.0.21\n",
            "\u001b[31mERROR: pip's dependency resolver does not currently take into account all the packages that are installed. This behaviour is the source of the following dependency conflicts.\n",
            "ipython-sql 0.5.0 requires sqlalchemy>=2.0, but you have sqlalchemy 1.4.49 which is incompatible.\u001b[0m\u001b[31m\n",
            "\u001b[0mSuccessfully installed sqlalchemy-1.4.49\n"
          ]
        }
      ],
      "source": [
        "!pip install --upgrade 'sqlalchemy<2.0'"
      ]
    },
    {
      "cell_type": "code",
      "execution_count": 1,
      "metadata": {
        "colab": {
          "base_uri": "https://localhost:8080/"
        },
        "id": "gLlukuwr1Z3c",
        "outputId": "16966d6e-7fb4-42c2-ec32-b498e05deed0"
      },
      "outputs": [
        {
          "output_type": "stream",
          "name": "stderr",
          "text": [
            "[nltk_data] Downloading package punkt to /root/nltk_data...\n",
            "[nltk_data]   Package punkt is already up-to-date!\n",
            "[nltk_data] Downloading package stopwords to /root/nltk_data...\n",
            "[nltk_data]   Package stopwords is already up-to-date!\n",
            "[nltk_data] Downloading package wordnet to /root/nltk_data...\n",
            "[nltk_data]   Package wordnet is already up-to-date!\n",
            "[nltk_data] Downloading package averaged_perceptron_tagger to\n",
            "[nltk_data]     /root/nltk_data...\n",
            "[nltk_data]   Package averaged_perceptron_tagger is already up-to-\n",
            "[nltk_data]       date!\n"
          ]
        }
      ],
      "source": [
        "import re\n",
        "import numpy as np\n",
        "import pandas as pd\n",
        "from nltk.tokenize import word_tokenize\n",
        "from nltk.stem import WordNetLemmatizer\n",
        "import nltk\n",
        "from sklearn.metrics import confusion_matrix\n",
        "from sklearn.model_selection import GridSearchCV\n",
        "from sklearn.ensemble import RandomForestClassifier, AdaBoostClassifier\n",
        "from sklearn.model_selection import train_test_split\n",
        "from sklearn.pipeline import Pipeline, FeatureUnion\n",
        "from sklearn.base import BaseEstimator, TransformerMixin\n",
        "from sklearn.feature_extraction.text import CountVectorizer, TfidfTransformer\n",
        "from sklearn.metrics import classification_report\n",
        "from sklearn.svm import LinearSVC\n",
        "from sqlalchemy import create_engine\n",
        "from sklearn.datasets import make_multilabel_classification\n",
        "from sklearn.multioutput import MultiOutputClassifier\n",
        "from sklearn.linear_model import LogisticRegression\n",
        "nltk.download(['punkt','stopwords', 'wordnet', 'averaged_perceptron_tagger'])\n",
        "url_regex = 'http[s]?://(?:[a-zA-Z]|[0-9]|[$-_@.&+]|[!*\\(\\),]|(?:%[0-9a-fA-F][0-9a-fA-F]))+'"
      ]
    },
    {
      "cell_type": "code",
      "execution_count": 2,
      "metadata": {
        "id": "ANzZliz61Z3e"
      },
      "outputs": [],
      "source": [
        "# load data from database\n",
        "engine = create_engine('sqlite:///MessageDatabase.db')\n",
        "df = pd.read_sql_table('MessageDatabase', engine)\n",
        "X = df['message']\n",
        "Y = df.drop(['id','message','original','genre'],axis=1)\n"
      ]
    },
    {
      "cell_type": "markdown",
      "metadata": {
        "id": "POfm0bp31Z3e"
      },
      "source": [
        "### 2. Write a tokenization function to process your text data"
      ]
    },
    {
      "cell_type": "code",
      "execution_count": 3,
      "metadata": {
        "id": "qYAtaelS1Z3f"
      },
      "outputs": [],
      "source": [
        "def tokenize(text):\n",
        "    detected_urls = re.findall(url_regex, text)\n",
        "    for url in detected_urls:\n",
        "        text = text.replace(url, \"urlplaceholder\")\n",
        "\n",
        "    tokens = word_tokenize(text)\n",
        "    lemmatizer = WordNetLemmatizer()\n",
        "\n",
        "    clean_tokens = []\n",
        "    for tok in tokens:\n",
        "        clean_tok = lemmatizer.lemmatize(tok).lower().strip()\n",
        "        clean_tokens.append(clean_tok)\n",
        "\n",
        "    return clean_tokens"
      ]
    },
    {
      "cell_type": "markdown",
      "metadata": {
        "id": "9aYXX0wF1Z3f"
      },
      "source": [
        "### 3. Build a machine learning pipeline\n",
        "This machine pipeline should take in the `message` column as input and output classification results on the other 36 categories in the dataset. You may find the [MultiOutputClassifier](http://scikit-learn.org/stable/modules/generated/sklearn.multioutput.MultiOutputClassifier.html) helpful for predicting multiple target variables."
      ]
    },
    {
      "cell_type": "code",
      "execution_count": 4,
      "metadata": {
        "id": "rqeXWIPC1Z3f"
      },
      "outputs": [],
      "source": [
        "class StartingVerbExtractor(BaseEstimator, TransformerMixin):\n",
        "\n",
        "    def starting_verb(self, text):\n",
        "        sentence_list = nltk.sent_tokenize(text)\n",
        "        for sentence in sentence_list:\n",
        "            pos_tags = nltk.pos_tag(tokenize(sentence))\n",
        "            first_word, first_tag = pos_tags[0]\n",
        "            if first_tag in ['VB', 'VBP'] or first_word == 'RT':\n",
        "                return True\n",
        "        return False\n",
        "\n",
        "    def fit(self, X, y=None):\n",
        "        return self\n",
        "\n",
        "    def transform(self, X):\n",
        "        X_tagged = pd.Series(X).apply(self.starting_verb)\n",
        "        return pd.DataFrame(X_tagged)"
      ]
    },
    {
      "cell_type": "code",
      "execution_count": null,
      "metadata": {
        "id": "VcIZYKqH1Z3g"
      },
      "outputs": [],
      "source": [
        "#THIS IS THE PIPELINE DESIGN IMPLEMENTED\n",
        "pipeline = Pipeline([\n",
        "    ('features', FeatureUnion([\n",
        "\n",
        "        ('text_pipeline', Pipeline([\n",
        "            ('vect', CountVectorizer(tokenizer=tokenize)),\n",
        "            ('tfidf',  er())\n",
        "        ])),\n",
        "\n",
        "        ('starting_verb', StartingVerbExtractor())\n",
        "    ])),\n",
        "\n",
        "    ('clf', RandomForestClassifier())\n",
        "])"
      ]
    },
    {
      "cell_type": "markdown",
      "metadata": {
        "id": "Iq1OVFOz1Z3g"
      },
      "source": [
        "### 4. Train pipeline\n",
        "- Split data into train and test sets\n",
        "- Train pipeline"
      ]
    },
    {
      "cell_type": "code",
      "execution_count": 5,
      "metadata": {
        "id": "GLRGKGV51Z3g"
      },
      "outputs": [],
      "source": [
        "X_train, X_test, y_train, y_test = train_test_split(X, Y)"
      ]
    },
    {
      "cell_type": "code",
      "execution_count": null,
      "metadata": {
        "id": "ABILl8Wg1Z3g",
        "outputId": "70f99266-3525-4be7-95df-3b90072b3dd2"
      },
      "outputs": [
        {
          "data": {
            "text/plain": [
              "Pipeline(memory=None,\n",
              "     steps=[('features', FeatureUnion(n_jobs=1,\n",
              "       transformer_list=[('text_pipeline', Pipeline(memory=None,\n",
              "     steps=[('vect', CountVectorizer(analyzer='word', binary=False, decode_error='strict',\n",
              "        dtype=<class 'numpy.int64'>, encoding='utf-8', input='content',\n",
              "        lowercase=True, max_d...n_jobs=1,\n",
              "            oob_score=False, random_state=None, verbose=0,\n",
              "            warm_start=False))])"
            ]
          },
          "execution_count": 62,
          "metadata": {},
          "output_type": "execute_result"
        }
      ],
      "source": [
        "pipeline.fit(X_train, y_train)"
      ]
    },
    {
      "cell_type": "markdown",
      "metadata": {
        "id": "LvvBPugM1Z3h"
      },
      "source": [
        "### 5. Test your model\n",
        "Report the f1 score, precision and recall for each output category of the dataset. You can do this by iterating through the columns and calling sklearn's `classification_report` on each."
      ]
    },
    {
      "cell_type": "code",
      "execution_count": null,
      "metadata": {
        "id": "nJsgO2mC1Z3h"
      },
      "outputs": [],
      "source": [
        "def display_results(y_test, y_pred):\n",
        "    y_pred_names = pd.DataFrame(y_pred, columns = y_test.columns)\n",
        "    for column in y_test.columns:\n",
        "        print('column_name: {}\\n'.format(column))\n",
        "        print(classification_report(y_test[column], y_pred_names[column]))"
      ]
    },
    {
      "cell_type": "code",
      "execution_count": null,
      "metadata": {
        "id": "TaXTqW_D1Z3h",
        "outputId": "28e9f4c0-de18-46ae-d7ce-aa8623ad116e"
      },
      "outputs": [
        {
          "name": "stdout",
          "output_type": "stream",
          "text": [
            "column_name: related\n",
            "\n",
            "             precision    recall  f1-score   support\n",
            "\n",
            "          0       0.58      0.46      0.51      1572\n",
            "          1       0.84      0.90      0.86      4933\n",
            "          2       0.71      0.25      0.37        40\n",
            "\n",
            "avg / total       0.77      0.79      0.78      6545\n",
            "\n",
            "column_name: request\n",
            "\n",
            "             precision    recall  f1-score   support\n",
            "\n",
            "          0       0.88      0.98      0.93      5420\n",
            "          1       0.81      0.36      0.50      1125\n",
            "\n",
            "avg / total       0.87      0.88      0.85      6545\n",
            "\n",
            "column_name: offer\n",
            "\n",
            "             precision    recall  f1-score   support\n",
            "\n",
            "          0       1.00      1.00      1.00      6522\n",
            "          1       0.00      0.00      0.00        23\n",
            "\n",
            "avg / total       0.99      1.00      0.99      6545\n",
            "\n",
            "column_name: aid_related\n",
            "\n",
            "             precision    recall  f1-score   support\n",
            "\n",
            "          0       0.70      0.91      0.79      3855\n",
            "          1       0.78      0.43      0.55      2690\n",
            "\n",
            "avg / total       0.73      0.71      0.69      6545\n",
            "\n",
            "column_name: medical_help\n",
            "\n",
            "             precision    recall  f1-score   support\n",
            "\n",
            "          0       0.92      1.00      0.96      6013\n",
            "          1       0.35      0.01      0.02       532\n",
            "\n",
            "avg / total       0.87      0.92      0.88      6545\n",
            "\n",
            "column_name: medical_products\n",
            "\n",
            "             precision    recall  f1-score   support\n",
            "\n",
            "          0       0.95      1.00      0.97      6214\n",
            "          1       0.73      0.02      0.05       331\n",
            "\n",
            "avg / total       0.94      0.95      0.93      6545\n",
            "\n",
            "column_name: search_and_rescue\n",
            "\n",
            "             precision    recall  f1-score   support\n",
            "\n",
            "          0       0.97      1.00      0.99      6367\n",
            "          1       0.75      0.02      0.03       178\n",
            "\n",
            "avg / total       0.97      0.97      0.96      6545\n",
            "\n",
            "column_name: security\n",
            "\n",
            "             precision    recall  f1-score   support\n",
            "\n",
            "          0       0.98      1.00      0.99      6426\n",
            "          1       0.00      0.00      0.00       119\n",
            "\n",
            "avg / total       0.96      0.98      0.97      6545\n",
            "\n",
            "column_name: military\n",
            "\n",
            "             precision    recall  f1-score   support\n",
            "\n",
            "          0       0.97      1.00      0.98      6315\n",
            "          1       1.00      0.01      0.02       230\n",
            "\n",
            "avg / total       0.97      0.97      0.95      6545\n",
            "\n",
            "column_name: child_alone\n",
            "\n",
            "             precision    recall  f1-score   support\n",
            "\n",
            "          0       1.00      1.00      1.00      6545\n",
            "\n",
            "avg / total       1.00      1.00      1.00      6545\n",
            "\n",
            "column_name: water\n",
            "\n",
            "             precision    recall  f1-score   support\n",
            "\n",
            "          0       0.94      1.00      0.97      6123\n",
            "          1       0.92      0.14      0.24       422\n",
            "\n",
            "avg / total       0.94      0.94      0.92      6545\n",
            "\n",
            "column_name: food\n",
            "\n",
            "             precision    recall  f1-score   support\n",
            "\n",
            "          0       0.92      0.99      0.95      5809\n",
            "          1       0.85      0.28      0.42       736\n",
            "\n",
            "avg / total       0.91      0.91      0.89      6545\n",
            "\n",
            "column_name: shelter\n",
            "\n",
            "             precision    recall  f1-score   support\n",
            "\n",
            "          0       0.92      1.00      0.96      5963\n",
            "          1       0.88      0.10      0.19       582\n",
            "\n",
            "avg / total       0.92      0.92      0.89      6545\n",
            "\n",
            "column_name: clothing\n",
            "\n",
            "             precision    recall  f1-score   support\n",
            "\n",
            "          0       0.99      1.00      0.99      6455\n",
            "          1       1.00      0.03      0.06        90\n",
            "\n",
            "avg / total       0.99      0.99      0.98      6545\n",
            "\n",
            "column_name: money\n",
            "\n",
            "             precision    recall  f1-score   support\n",
            "\n",
            "          0       0.98      1.00      0.99      6390\n",
            "          1       0.50      0.01      0.01       155\n",
            "\n",
            "avg / total       0.97      0.98      0.96      6545\n",
            "\n",
            "column_name: missing_people\n",
            "\n",
            "             precision    recall  f1-score   support\n",
            "\n",
            "          0       0.99      1.00      0.99      6471\n",
            "          1       1.00      0.01      0.03        74\n",
            "\n",
            "avg / total       0.99      0.99      0.98      6545\n",
            "\n",
            "column_name: refugees\n",
            "\n",
            "             precision    recall  f1-score   support\n",
            "\n",
            "          0       0.97      1.00      0.98      6318\n",
            "          1       0.50      0.01      0.03       227\n",
            "\n",
            "avg / total       0.95      0.97      0.95      6545\n",
            "\n",
            "column_name: death\n",
            "\n",
            "             precision    recall  f1-score   support\n",
            "\n",
            "          0       0.96      1.00      0.98      6246\n",
            "          1       0.90      0.06      0.12       299\n",
            "\n",
            "avg / total       0.95      0.96      0.94      6545\n",
            "\n",
            "column_name: other_aid\n",
            "\n",
            "             precision    recall  f1-score   support\n",
            "\n",
            "          0       0.88      1.00      0.93      5702\n",
            "          1       0.66      0.04      0.07       843\n",
            "\n",
            "avg / total       0.85      0.87      0.82      6545\n",
            "\n",
            "column_name: infrastructure_related\n",
            "\n",
            "             precision    recall  f1-score   support\n",
            "\n",
            "          0       0.94      1.00      0.97      6126\n",
            "          1       0.25      0.00      0.01       419\n",
            "\n",
            "avg / total       0.89      0.94      0.91      6545\n",
            "\n",
            "column_name: transport\n",
            "\n",
            "             precision    recall  f1-score   support\n",
            "\n",
            "          0       0.95      1.00      0.98      6231\n",
            "          1       0.67      0.01      0.03       314\n",
            "\n",
            "avg / total       0.94      0.95      0.93      6545\n",
            "\n",
            "column_name: buildings\n",
            "\n",
            "             precision    recall  f1-score   support\n",
            "\n",
            "          0       0.95      1.00      0.97      6202\n",
            "          1       0.57      0.01      0.02       343\n",
            "\n",
            "avg / total       0.93      0.95      0.92      6545\n",
            "\n",
            "column_name: electricity\n",
            "\n",
            "             precision    recall  f1-score   support\n",
            "\n",
            "          0       0.98      1.00      0.99      6412\n",
            "          1       0.00      0.00      0.00       133\n",
            "\n",
            "avg / total       0.96      0.98      0.97      6545\n",
            "\n",
            "column_name: tools\n",
            "\n",
            "             precision    recall  f1-score   support\n",
            "\n",
            "          0       0.99      1.00      1.00      6512\n",
            "          1       0.00      0.00      0.00        33\n",
            "\n",
            "avg / total       0.99      0.99      0.99      6545\n",
            "\n",
            "column_name: hospitals\n",
            "\n",
            "             precision    recall  f1-score   support\n",
            "\n",
            "          0       0.99      1.00      1.00      6482\n",
            "          1       0.00      0.00      0.00        63\n",
            "\n",
            "avg / total       0.98      0.99      0.99      6545\n",
            "\n",
            "column_name: shops\n",
            "\n",
            "             precision    recall  f1-score   support\n",
            "\n",
            "          0       1.00      1.00      1.00      6519\n",
            "          1       0.00      0.00      0.00        26\n",
            "\n",
            "avg / total       0.99      1.00      0.99      6545\n",
            "\n",
            "column_name: aid_centers\n",
            "\n",
            "             precision    recall  f1-score   support\n",
            "\n",
            "          0       0.99      1.00      0.99      6465\n",
            "          1       0.00      0.00      0.00        80\n",
            "\n",
            "avg / total       0.98      0.99      0.98      6545\n",
            "\n",
            "column_name: other_infrastructure\n",
            "\n",
            "             precision    recall  f1-score   support\n",
            "\n",
            "          0       0.95      1.00      0.98      6250\n",
            "          1       0.00      0.00      0.00       295\n",
            "\n",
            "avg / total       0.91      0.95      0.93      6545\n",
            "\n",
            "column_name: weather_related\n",
            "\n",
            "             precision    recall  f1-score   support\n",
            "\n",
            "          0       0.81      0.97      0.89      4747\n",
            "          1       0.86      0.41      0.55      1798\n",
            "\n",
            "avg / total       0.83      0.82      0.79      6545\n",
            "\n",
            "column_name: floods\n",
            "\n",
            "             precision    recall  f1-score   support\n",
            "\n",
            "          0       0.93      1.00      0.96      6006\n",
            "          1       0.91      0.14      0.25       539\n",
            "\n",
            "avg / total       0.93      0.93      0.90      6545\n",
            "\n",
            "column_name: storm\n",
            "\n",
            "             precision    recall  f1-score   support\n",
            "\n",
            "          0       0.92      0.99      0.96      5942\n",
            "          1       0.80      0.19      0.31       603\n",
            "\n",
            "avg / total       0.91      0.92      0.90      6545\n",
            "\n",
            "column_name: fire\n",
            "\n",
            "             precision    recall  f1-score   support\n",
            "\n",
            "          0       0.99      1.00      0.99      6473\n",
            "          1       0.00      0.00      0.00        72\n",
            "\n",
            "avg / total       0.98      0.99      0.98      6545\n",
            "\n",
            "column_name: earthquake\n",
            "\n",
            "             precision    recall  f1-score   support\n",
            "\n",
            "          0       0.94      1.00      0.97      5943\n",
            "          1       0.92      0.36      0.52       602\n",
            "\n",
            "avg / total       0.94      0.94      0.93      6545\n",
            "\n",
            "column_name: cold\n",
            "\n",
            "             precision    recall  f1-score   support\n",
            "\n",
            "          0       0.98      1.00      0.99      6413\n",
            "          1       1.00      0.02      0.04       132\n",
            "\n",
            "avg / total       0.98      0.98      0.97      6545\n",
            "\n",
            "column_name: other_weather\n",
            "\n",
            "             precision    recall  f1-score   support\n",
            "\n",
            "          0       0.95      1.00      0.97      6196\n",
            "          1       0.67      0.01      0.01       349\n",
            "\n",
            "avg / total       0.93      0.95      0.92      6545\n",
            "\n",
            "column_name: direct_report\n",
            "\n",
            "             precision    recall  f1-score   support\n",
            "\n",
            "          0       0.86      0.98      0.91      5298\n",
            "          1       0.78      0.30      0.43      1247\n",
            "\n",
            "avg / total       0.84      0.85      0.82      6545\n",
            "\n"
          ]
        },
        {
          "name": "stderr",
          "output_type": "stream",
          "text": [
            "/opt/conda/lib/python3.6/site-packages/sklearn/metrics/classification.py:1135: UndefinedMetricWarning: Precision and F-score are ill-defined and being set to 0.0 in labels with no predicted samples.\n",
            "  'precision', 'predicted', average, warn_for)\n"
          ]
        }
      ],
      "source": [
        "y_pred = pipeline.predict(X_test)\n",
        "display_results(y_test, y_pred)"
      ]
    },
    {
      "cell_type": "markdown",
      "metadata": {
        "id": "P7ZNZ25H1Z3i"
      },
      "source": [
        "### 6. Improve your model\n",
        "Use grid search to find better parameters."
      ]
    },
    {
      "cell_type": "code",
      "execution_count": null,
      "metadata": {
        "colab": {
          "base_uri": "https://localhost:8080/"
        },
        "id": "Tvo2B_ug1Z3i",
        "outputId": "d4c508ca-35e0-45bc-a3a6-c10404d17fa9"
      },
      "outputs": [
        {
          "output_type": "stream",
          "name": "stdout",
          "text": [
            "Fitting 2 folds for each of 2 candidates, totalling 4 fits\n",
            "[CV] END ...................clf2__estimator__weights=uniform; total time=36.8min\n"
          ]
        }
      ],
      "source": [
        "from sklearn.neighbors import KNeighborsClassifier\n",
        "knn_classifier = KNeighborsClassifier()\n",
        "multi_knn_classifier = MultiOutputClassifier(knn_classifier)\n",
        "\n",
        "pipeline_2 = Pipeline([\n",
        "    ('features', FeatureUnion([\n",
        "\n",
        "        ('text_pipeline', Pipeline([\n",
        "            ('vect', CountVectorizer()),\n",
        "            ('tfidf', TfidfTransformer())\n",
        "        ])),\n",
        "\n",
        "        ('starting_verb', StartingVerbExtractor())\n",
        "    ])),\n",
        "\n",
        "    ('clf2', multi_knn_classifier)\n",
        "])\n",
        "\n",
        "\n",
        "\n",
        "# Define hyperparameters to tune\n",
        "param_grid2 = {\n",
        "    #'features__text_pipeline__vect__min_df': [1, 5, 10],\n",
        "    #'features__text_pipeline__vect__max_df': [0.5, 0.75, 1.0],\n",
        "    #'features__text_pipeline__tfidf__use_idf': [True, False],\n",
        "    #'features__text_pipeline__tfidf__sublinear_tf': [True, False],\n",
        "    #'clf2__estimator__n_neighbors': [5, 10, 15],\n",
        "    'clf2__estimator__weights': ['uniform', 'distance'],\n",
        "    #'clf2__estimator__algorithm': ['auto', 'ball_tree', 'kd_tree'],\n",
        "}\n",
        "\n",
        "clf2 = GridSearchCV(pipeline_2, param_grid=param_grid2, cv=2, verbose=2)\n",
        "clf2.fit(X_train, y_train)"
      ]
    },
    {
      "cell_type": "markdown",
      "metadata": {
        "id": "o_G2KIRL1Z3i"
      },
      "source": [
        "### 7. Test your model\n",
        "Show the accuracy, precision, and recall of the tuned model.  \n",
        "\n",
        "Since this project focuses on code quality, process, and  pipelines, there is no minimum performance metric needed to pass. However, make sure to fine tune your models for accuracy, precision and recall to make your project stand out - especially for your portfolio!"
      ]
    },
    {
      "cell_type": "code",
      "execution_count": null,
      "metadata": {
        "id": "Hyf4arhh1Z3i"
      },
      "outputs": [],
      "source": [
        "y_pred = clf2.predict(X_test)\n",
        "# Print the best hyperparameters\n",
        "print(\"Best Hyperparameters:\", clf2.best_params_)\n",
        "\n",
        "# Evaluate the model on the test set\n",
        "accuracy = clf2.score(y_pred, y_test)\n",
        "print(\"Test Accuracy:\", accuracy)"
      ]
    },
    {
      "cell_type": "code",
      "execution_count": null,
      "metadata": {
        "id": "erORzUKy1Z3j"
      },
      "outputs": [],
      "source": [
        "#burayı henüz test etmedim.\n",
        "accuracy = (y_pred == y_test).mean()\n",
        "print(\"Accuracy:\", accuracy)\n",
        "#print(\"\\nBest Parameters:\", cv.best_params_)\n",
        "display_results(y_test, y_pred)"
      ]
    },
    {
      "cell_type": "markdown",
      "metadata": {
        "id": "wB_fW_Hs1Z3j"
      },
      "source": [
        "### 8. Try improving your model further. Here are a few ideas:\n",
        "* try other machine learning algorithms\n",
        "* add other features besides the TF-IDF"
      ]
    },
    {
      "cell_type": "code",
      "execution_count": null,
      "metadata": {
        "id": "3Ra55gFl1Z3j"
      },
      "outputs": [],
      "source": [
        "#LogisticRegression kullanabilirsin"
      ]
    },
    {
      "cell_type": "markdown",
      "metadata": {
        "id": "I_ZgQnR91Z3j"
      },
      "source": [
        "### 9. Export your model as a pickle file"
      ]
    },
    {
      "cell_type": "code",
      "execution_count": null,
      "metadata": {
        "id": "RHgNfIny1Z3j"
      },
      "outputs": [],
      "source": []
    },
    {
      "cell_type": "markdown",
      "metadata": {
        "id": "4aHmXBYe1Z3k"
      },
      "source": [
        "### 10. Use this notebook to complete `train.py`\n",
        "Use the template file attached in the Resources folder to write a script that runs the steps above to create a database and export a model based on a new dataset specified by the user."
      ]
    },
    {
      "cell_type": "code",
      "execution_count": null,
      "metadata": {
        "id": "3mzB55D51Z3k"
      },
      "outputs": [],
      "source": []
    }
  ],
  "metadata": {
    "accelerator": "TPU",
    "colab": {
      "provenance": [],
      "include_colab_link": true
    },
    "kernelspec": {
      "display_name": "Python 3",
      "name": "python3"
    },
    "language_info": {
      "codemirror_mode": {
        "name": "ipython",
        "version": 3
      },
      "file_extension": ".py",
      "mimetype": "text/x-python",
      "name": "python",
      "nbconvert_exporter": "python",
      "pygments_lexer": "ipython3",
      "version": "3.6.3"
    }
  },
  "nbformat": 4,
  "nbformat_minor": 0
}