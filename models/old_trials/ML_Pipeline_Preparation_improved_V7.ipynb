{
  "cells": [
    {
      "cell_type": "markdown",
      "metadata": {
        "id": "Tcah-fv_JUlf"
      },
      "source": [
        "# ML Pipeline Preparation\n",
        "Follow the instructions below to help you create your ML pipeline.\n",
        "### 1. Import libraries and load data from database.\n",
        "- Import Python libraries\n",
        "- Load dataset from database with [`read_sql_table`](https://pandas.pydata.org/pandas-docs/stable/generated/pandas.read_sql_table.html)\n",
        "- Define feature and target variables X and Y"
      ]
    },
    {
      "cell_type": "code",
      "execution_count": null,
      "metadata": {
        "id": "g6tWP_PrJUlj"
      },
      "outputs": [],
      "source": [
        "import re                                                                                     #It is being used.\n",
        "import numpy as np                                                                            #It is being used.\n",
        "import pandas as pd                                                                           #It is being used.\n",
        "from nltk.tokenize import word_tokenize                                                       #It is being used.\n",
        "from nltk.stem import WordNetLemmatizer                                                       #It is being used.\n",
        "import nltk                                                                                   #It is being used.\n",
        "#from sklearn.metrics import confusion_matrix\n",
        "from sklearn.model_selection import GridSearchCV                                              #It is being used.\n",
        "from sklearn.ensemble import RandomForestClassifier\n",
        "from sklearn.model_selection import train_test_split                                          #It is being used.\n",
        "from sklearn.pipeline import Pipeline, FeatureUnion                                           #It is being used.\n",
        "from sklearn.base import BaseEstimator, TransformerMixin                                      #It is being used.\n",
        "from sklearn.feature_extraction.text import CountVectorizer, TfidfTransformer                 #It is being used.\n",
        "from sklearn.metrics import classification_report                                             #It is being used.\n",
        "#from sklearn.svm import LinearSVC\n",
        "from sqlalchemy import create_engine                                                          #It is being used.\n",
        "#from sklearn.datasets import make_multilabel_classification\n",
        "from sklearn.multioutput import MultiOutputClassifier                                         #It is being used.\n",
        "#from sklearn.linear_model import LogisticRegression\n",
        "from sklearn.neighbors import KNeighborsClassifier                                            #It is being used.\n",
        "from sklearn.metrics import  f1_score,precision_score,recall_score,accuracy_score,make_scorer #It is being used.\n",
        "nltk.download(['punkt','stopwords', 'wordnet', 'averaged_perceptron_tagger'])                 #It is being used. Check again.\n",
        "url_regex = 'http[s]?://(?:[a-zA-Z]|[0-9]|[$-_@.&+]|[!*\\(\\),]|(?:%[0-9a-fA-F][0-9a-fA-F]))+'  #It is being used."
      ]
    },
    {
      "cell_type": "code",
      "source": [
        "!pip install --upgrade 'sqlalchemy<2.0'"
      ],
      "metadata": {
        "colab": {
          "base_uri": "https://localhost:8080/",
          "height": 341
        },
        "id": "2EwgHrcpJWNM",
        "outputId": "f3c568ef-dbd5-4b89-c28f-07fc99d425cc"
      },
      "execution_count": 2,
      "outputs": [
        {
          "output_type": "stream",
          "name": "stdout",
          "text": [
            "Collecting sqlalchemy<2.0\n",
            "  Downloading SQLAlchemy-1.4.49-cp310-cp310-manylinux_2_5_x86_64.manylinux1_x86_64.manylinux_2_17_x86_64.manylinux2014_x86_64.whl (1.6 MB)\n",
            "\u001b[2K     \u001b[90m━━━━━━━━━━━━━━━━━━━━━━━━━━━━━━━━━━━━━━━━\u001b[0m \u001b[32m1.6/1.6 MB\u001b[0m \u001b[31m7.8 MB/s\u001b[0m eta \u001b[36m0:00:00\u001b[0m\n",
            "\u001b[?25hRequirement already satisfied: greenlet!=0.4.17 in /usr/local/lib/python3.10/dist-packages (from sqlalchemy<2.0) (3.0.0)\n",
            "Installing collected packages: sqlalchemy\n",
            "  Attempting uninstall: sqlalchemy\n",
            "    Found existing installation: SQLAlchemy 2.0.21\n",
            "    Uninstalling SQLAlchemy-2.0.21:\n",
            "      Successfully uninstalled SQLAlchemy-2.0.21\n",
            "\u001b[31mERROR: pip's dependency resolver does not currently take into account all the packages that are installed. This behaviour is the source of the following dependency conflicts.\n",
            "ipython-sql 0.5.0 requires sqlalchemy>=2.0, but you have sqlalchemy 1.4.49 which is incompatible.\u001b[0m\u001b[31m\n",
            "\u001b[0mSuccessfully installed sqlalchemy-1.4.49\n"
          ]
        },
        {
          "output_type": "display_data",
          "data": {
            "application/vnd.colab-display-data+json": {
              "pip_warning": {
                "packages": [
                  "sqlalchemy"
                ]
              }
            }
          },
          "metadata": {}
        }
      ]
    },
    {
      "cell_type": "code",
      "execution_count": 4,
      "metadata": {
        "id": "2aABHYEVJUlm"
      },
      "outputs": [],
      "source": [
        "# load data from database\n",
        "engine = create_engine('sqlite:///MessageDatabase.db')\n",
        "df = pd.read_sql_table('MessageDatabase', engine)\n",
        "X = df['message']\n",
        "Y = df.drop(['id','message','original','genre'],axis=1)\n"
      ]
    },
    {
      "cell_type": "markdown",
      "metadata": {
        "id": "A2Dxt7x3JUln"
      },
      "source": [
        "### 2. Write a tokenization function to process your text data"
      ]
    },
    {
      "cell_type": "code",
      "execution_count": 5,
      "metadata": {
        "id": "BId96A8NJUln"
      },
      "outputs": [],
      "source": [
        "def tokenize(text):\n",
        "    detected_urls = re.findall(url_regex, text)\n",
        "    for url in detected_urls:\n",
        "        text = text.replace(url, \"urlplaceholder\")\n",
        "\n",
        "    tokens = word_tokenize(text)\n",
        "    lemmatizer = WordNetLemmatizer()\n",
        "\n",
        "    clean_tokens = []\n",
        "    for tok in tokens:\n",
        "        clean_tok = lemmatizer.lemmatize(tok).lower().strip()\n",
        "        clean_tokens.append(clean_tok)\n",
        "\n",
        "    return clean_tokens"
      ]
    },
    {
      "cell_type": "markdown",
      "metadata": {
        "id": "g24-9oRgJUlo"
      },
      "source": [
        "### 3. Build a machine learning pipeline\n",
        "This machine pipeline should take in the `message` column as input and output classification results on the other 36 categories in the dataset. You may find the [MultiOutputClassifier](http://scikit-learn.org/stable/modules/generated/sklearn.multioutput.MultiOutputClassifier.html) helpful for predicting multiple target variables."
      ]
    },
    {
      "cell_type": "code",
      "execution_count": 6,
      "metadata": {
        "id": "0Nanvgr6JUlo"
      },
      "outputs": [],
      "source": [
        "class StartingVerbExtractor(BaseEstimator, TransformerMixin):\n",
        "\n",
        "    def starting_verb(self, text):\n",
        "        sentence_list = nltk.sent_tokenize(text)\n",
        "        for sentence in sentence_list:\n",
        "            pos_tags = nltk.pos_tag(tokenize(sentence))\n",
        "            first_word, first_tag = pos_tags[0]\n",
        "            if first_tag in ['VB', 'VBP'] or first_word == 'RT':\n",
        "                return True\n",
        "        return False\n",
        "\n",
        "    def fit(self, X, y=None):\n",
        "        return self\n",
        "\n",
        "    def transform(self, X):\n",
        "        X_tagged = pd.Series(X).apply(self.starting_verb)\n",
        "        return pd.DataFrame(X_tagged)"
      ]
    },
    {
      "cell_type": "code",
      "execution_count": 7,
      "metadata": {
        "id": "wXxihSTCJUlp"
      },
      "outputs": [],
      "source": [
        "#THIS IS THE PIPELINE DESIGN IMPLEMENTED\n",
        "pipeline = Pipeline([\n",
        "    ('features', FeatureUnion([\n",
        "\n",
        "        ('text_pipeline', Pipeline([\n",
        "            ('vect', CountVectorizer(tokenizer=tokenize)),\n",
        "            ('tfidf', TfidfTransformer())\n",
        "        ])),\n",
        "\n",
        "        ('starting_verb', StartingVerbExtractor())\n",
        "    ])),\n",
        "\n",
        "    ('clf', RandomForestClassifier())\n",
        "])"
      ]
    },
    {
      "cell_type": "markdown",
      "metadata": {
        "id": "54rKnPb7JUlp"
      },
      "source": [
        "### 4. Train pipeline\n",
        "- Split data into train and test sets\n",
        "- Train pipeline"
      ]
    },
    {
      "cell_type": "code",
      "execution_count": 8,
      "metadata": {
        "id": "IzncKxFHJUlq"
      },
      "outputs": [],
      "source": [
        "X_train, X_test, y_train, y_test = train_test_split(X, Y)"
      ]
    },
    {
      "cell_type": "code",
      "execution_count": 9,
      "metadata": {
        "colab": {
          "base_uri": "https://localhost:8080/",
          "height": 274
        },
        "id": "_fgh65p1JUlq",
        "outputId": "f84189b3-aa50-44e0-b9b3-0c7704689034"
      },
      "outputs": [
        {
          "output_type": "stream",
          "name": "stderr",
          "text": [
            "/usr/local/lib/python3.10/dist-packages/sklearn/feature_extraction/text.py:528: UserWarning: The parameter 'token_pattern' will not be used since 'tokenizer' is not None'\n",
            "  warnings.warn(\n"
          ]
        },
        {
          "output_type": "execute_result",
          "data": {
            "text/plain": [
              "Pipeline(steps=[('features',\n",
              "                 FeatureUnion(transformer_list=[('text_pipeline',\n",
              "                                                 Pipeline(steps=[('vect',\n",
              "                                                                  CountVectorizer(tokenizer=<function tokenize at 0x78e543b45360>)),\n",
              "                                                                 ('tfidf',\n",
              "                                                                  TfidfTransformer())])),\n",
              "                                                ('starting_verb',\n",
              "                                                 StartingVerbExtractor())])),\n",
              "                ('clf', RandomForestClassifier())])"
            ],
            "text/html": [
              "<style>#sk-container-id-1 {color: black;background-color: white;}#sk-container-id-1 pre{padding: 0;}#sk-container-id-1 div.sk-toggleable {background-color: white;}#sk-container-id-1 label.sk-toggleable__label {cursor: pointer;display: block;width: 100%;margin-bottom: 0;padding: 0.3em;box-sizing: border-box;text-align: center;}#sk-container-id-1 label.sk-toggleable__label-arrow:before {content: \"▸\";float: left;margin-right: 0.25em;color: #696969;}#sk-container-id-1 label.sk-toggleable__label-arrow:hover:before {color: black;}#sk-container-id-1 div.sk-estimator:hover label.sk-toggleable__label-arrow:before {color: black;}#sk-container-id-1 div.sk-toggleable__content {max-height: 0;max-width: 0;overflow: hidden;text-align: left;background-color: #f0f8ff;}#sk-container-id-1 div.sk-toggleable__content pre {margin: 0.2em;color: black;border-radius: 0.25em;background-color: #f0f8ff;}#sk-container-id-1 input.sk-toggleable__control:checked~div.sk-toggleable__content {max-height: 200px;max-width: 100%;overflow: auto;}#sk-container-id-1 input.sk-toggleable__control:checked~label.sk-toggleable__label-arrow:before {content: \"▾\";}#sk-container-id-1 div.sk-estimator input.sk-toggleable__control:checked~label.sk-toggleable__label {background-color: #d4ebff;}#sk-container-id-1 div.sk-label input.sk-toggleable__control:checked~label.sk-toggleable__label {background-color: #d4ebff;}#sk-container-id-1 input.sk-hidden--visually {border: 0;clip: rect(1px 1px 1px 1px);clip: rect(1px, 1px, 1px, 1px);height: 1px;margin: -1px;overflow: hidden;padding: 0;position: absolute;width: 1px;}#sk-container-id-1 div.sk-estimator {font-family: monospace;background-color: #f0f8ff;border: 1px dotted black;border-radius: 0.25em;box-sizing: border-box;margin-bottom: 0.5em;}#sk-container-id-1 div.sk-estimator:hover {background-color: #d4ebff;}#sk-container-id-1 div.sk-parallel-item::after {content: \"\";width: 100%;border-bottom: 1px solid gray;flex-grow: 1;}#sk-container-id-1 div.sk-label:hover label.sk-toggleable__label {background-color: #d4ebff;}#sk-container-id-1 div.sk-serial::before {content: \"\";position: absolute;border-left: 1px solid gray;box-sizing: border-box;top: 0;bottom: 0;left: 50%;z-index: 0;}#sk-container-id-1 div.sk-serial {display: flex;flex-direction: column;align-items: center;background-color: white;padding-right: 0.2em;padding-left: 0.2em;position: relative;}#sk-container-id-1 div.sk-item {position: relative;z-index: 1;}#sk-container-id-1 div.sk-parallel {display: flex;align-items: stretch;justify-content: center;background-color: white;position: relative;}#sk-container-id-1 div.sk-item::before, #sk-container-id-1 div.sk-parallel-item::before {content: \"\";position: absolute;border-left: 1px solid gray;box-sizing: border-box;top: 0;bottom: 0;left: 50%;z-index: -1;}#sk-container-id-1 div.sk-parallel-item {display: flex;flex-direction: column;z-index: 1;position: relative;background-color: white;}#sk-container-id-1 div.sk-parallel-item:first-child::after {align-self: flex-end;width: 50%;}#sk-container-id-1 div.sk-parallel-item:last-child::after {align-self: flex-start;width: 50%;}#sk-container-id-1 div.sk-parallel-item:only-child::after {width: 0;}#sk-container-id-1 div.sk-dashed-wrapped {border: 1px dashed gray;margin: 0 0.4em 0.5em 0.4em;box-sizing: border-box;padding-bottom: 0.4em;background-color: white;}#sk-container-id-1 div.sk-label label {font-family: monospace;font-weight: bold;display: inline-block;line-height: 1.2em;}#sk-container-id-1 div.sk-label-container {text-align: center;}#sk-container-id-1 div.sk-container {/* jupyter's `normalize.less` sets `[hidden] { display: none; }` but bootstrap.min.css set `[hidden] { display: none !important; }` so we also need the `!important` here to be able to override the default hidden behavior on the sphinx rendered scikit-learn.org. See: https://github.com/scikit-learn/scikit-learn/issues/21755 */display: inline-block !important;position: relative;}#sk-container-id-1 div.sk-text-repr-fallback {display: none;}</style><div id=\"sk-container-id-1\" class=\"sk-top-container\"><div class=\"sk-text-repr-fallback\"><pre>Pipeline(steps=[(&#x27;features&#x27;,\n",
              "                 FeatureUnion(transformer_list=[(&#x27;text_pipeline&#x27;,\n",
              "                                                 Pipeline(steps=[(&#x27;vect&#x27;,\n",
              "                                                                  CountVectorizer(tokenizer=&lt;function tokenize at 0x78e543b45360&gt;)),\n",
              "                                                                 (&#x27;tfidf&#x27;,\n",
              "                                                                  TfidfTransformer())])),\n",
              "                                                (&#x27;starting_verb&#x27;,\n",
              "                                                 StartingVerbExtractor())])),\n",
              "                (&#x27;clf&#x27;, RandomForestClassifier())])</pre><b>In a Jupyter environment, please rerun this cell to show the HTML representation or trust the notebook. <br />On GitHub, the HTML representation is unable to render, please try loading this page with nbviewer.org.</b></div><div class=\"sk-container\" hidden><div class=\"sk-item sk-dashed-wrapped\"><div class=\"sk-label-container\"><div class=\"sk-label sk-toggleable\"><input class=\"sk-toggleable__control sk-hidden--visually\" id=\"sk-estimator-id-1\" type=\"checkbox\" ><label for=\"sk-estimator-id-1\" class=\"sk-toggleable__label sk-toggleable__label-arrow\">Pipeline</label><div class=\"sk-toggleable__content\"><pre>Pipeline(steps=[(&#x27;features&#x27;,\n",
              "                 FeatureUnion(transformer_list=[(&#x27;text_pipeline&#x27;,\n",
              "                                                 Pipeline(steps=[(&#x27;vect&#x27;,\n",
              "                                                                  CountVectorizer(tokenizer=&lt;function tokenize at 0x78e543b45360&gt;)),\n",
              "                                                                 (&#x27;tfidf&#x27;,\n",
              "                                                                  TfidfTransformer())])),\n",
              "                                                (&#x27;starting_verb&#x27;,\n",
              "                                                 StartingVerbExtractor())])),\n",
              "                (&#x27;clf&#x27;, RandomForestClassifier())])</pre></div></div></div><div class=\"sk-serial\"><div class=\"sk-item sk-dashed-wrapped\"><div class=\"sk-label-container\"><div class=\"sk-label sk-toggleable\"><input class=\"sk-toggleable__control sk-hidden--visually\" id=\"sk-estimator-id-2\" type=\"checkbox\" ><label for=\"sk-estimator-id-2\" class=\"sk-toggleable__label sk-toggleable__label-arrow\">features: FeatureUnion</label><div class=\"sk-toggleable__content\"><pre>FeatureUnion(transformer_list=[(&#x27;text_pipeline&#x27;,\n",
              "                                Pipeline(steps=[(&#x27;vect&#x27;,\n",
              "                                                 CountVectorizer(tokenizer=&lt;function tokenize at 0x78e543b45360&gt;)),\n",
              "                                                (&#x27;tfidf&#x27;,\n",
              "                                                 TfidfTransformer())])),\n",
              "                               (&#x27;starting_verb&#x27;, StartingVerbExtractor())])</pre></div></div></div><div class=\"sk-parallel\"><div class=\"sk-parallel-item\"><div class=\"sk-item\"><div class=\"sk-label-container\"><div class=\"sk-label sk-toggleable\"><label>text_pipeline</label></div></div><div class=\"sk-serial\"><div class=\"sk-item\"><div class=\"sk-serial\"><div class=\"sk-item\"><div class=\"sk-estimator sk-toggleable\"><input class=\"sk-toggleable__control sk-hidden--visually\" id=\"sk-estimator-id-3\" type=\"checkbox\" ><label for=\"sk-estimator-id-3\" class=\"sk-toggleable__label sk-toggleable__label-arrow\">CountVectorizer</label><div class=\"sk-toggleable__content\"><pre>CountVectorizer(tokenizer=&lt;function tokenize at 0x78e543b45360&gt;)</pre></div></div></div><div class=\"sk-item\"><div class=\"sk-estimator sk-toggleable\"><input class=\"sk-toggleable__control sk-hidden--visually\" id=\"sk-estimator-id-4\" type=\"checkbox\" ><label for=\"sk-estimator-id-4\" class=\"sk-toggleable__label sk-toggleable__label-arrow\">TfidfTransformer</label><div class=\"sk-toggleable__content\"><pre>TfidfTransformer()</pre></div></div></div></div></div></div></div></div><div class=\"sk-parallel-item\"><div class=\"sk-item\"><div class=\"sk-label-container\"><div class=\"sk-label sk-toggleable\"><label>starting_verb</label></div></div><div class=\"sk-serial\"><div class=\"sk-item\"><div class=\"sk-estimator sk-toggleable\"><input class=\"sk-toggleable__control sk-hidden--visually\" id=\"sk-estimator-id-5\" type=\"checkbox\" ><label for=\"sk-estimator-id-5\" class=\"sk-toggleable__label sk-toggleable__label-arrow\">StartingVerbExtractor</label><div class=\"sk-toggleable__content\"><pre>StartingVerbExtractor()</pre></div></div></div></div></div></div></div></div><div class=\"sk-item\"><div class=\"sk-estimator sk-toggleable\"><input class=\"sk-toggleable__control sk-hidden--visually\" id=\"sk-estimator-id-6\" type=\"checkbox\" ><label for=\"sk-estimator-id-6\" class=\"sk-toggleable__label sk-toggleable__label-arrow\">RandomForestClassifier</label><div class=\"sk-toggleable__content\"><pre>RandomForestClassifier()</pre></div></div></div></div></div></div></div>"
            ]
          },
          "metadata": {},
          "execution_count": 9
        }
      ],
      "source": [
        "pipeline.fit(X_train, y_train)"
      ]
    },
    {
      "cell_type": "markdown",
      "metadata": {
        "id": "g0_DCbV5JUlr"
      },
      "source": [
        "### 5. Test your model\n",
        "Report the f1 score, precision and recall for each output category of the dataset. You can do this by iterating through the columns and calling sklearn's `classification_report` on each."
      ]
    },
    {
      "cell_type": "code",
      "execution_count": null,
      "metadata": {
        "id": "Z3160rpEJUlr"
      },
      "outputs": [],
      "source": [
        "#Predict desired values\n",
        "y_pred = pipeline.predict(X_test)\n",
        "\n",
        "#Transform predicted matrices and add column names same with y_test\n",
        "y_pred_w_names = pd.DataFrame(y_pred, columns = y_test.columns)\n",
        "\n",
        "#Print each output column and its related scores\n",
        "for column in y_test.columns:\n",
        "    print('column_name: ' + column + '\\n')\n",
        "    print(classification_report(y_test[column], y_pred_w_names[column]))"
      ]
    },
    {
      "cell_type": "markdown",
      "metadata": {
        "id": "rC0D3KiBJUlt"
      },
      "source": [
        "### 6. Improve your model\n",
        "Use grid search to find better parameters."
      ]
    },
    {
      "cell_type": "code",
      "execution_count": 14,
      "metadata": {
        "id": "f9VfAN6oJUlt"
      },
      "outputs": [],
      "source": [
        "pipeline_2 = Pipeline([\n",
        "    ('features', FeatureUnion([\n",
        "\n",
        "        ('text_pipeline', Pipeline([\n",
        "            ('vect', CountVectorizer(tokenizer=tokenize)),\n",
        "            ('tfidf', TfidfTransformer())\n",
        "        ])),\n",
        "\n",
        "        ('starting_verb', StartingVerbExtractor())\n",
        "    ])),\n",
        "\n",
        "    ('clf2', MultiOutputClassifier(RandomForestClassifier()))\n",
        "])\n",
        "\n",
        "\n",
        "\n",
        "# Define hyperparameters to tune\n",
        "param_grid2 = {\n",
        "    'clf2__estimator__min_samples_leaf': (1,2),\n",
        "    'clf2__estimator__min_samples_split':(2,3,4)\n",
        "}\n",
        "#pipeline_2.get_params()"
      ]
    },
    {
      "cell_type": "code",
      "execution_count": null,
      "metadata": {
        "colab": {
          "base_uri": "https://localhost:8080/"
        },
        "id": "9mNHbhZ0JUlt",
        "outputId": "bae24624-5f40-4232-b773-2c3c2b54bd2b"
      },
      "outputs": [
        {
          "output_type": "stream",
          "name": "stdout",
          "text": [
            "Fitting 5 folds for each of 6 candidates, totalling 30 fits\n"
          ]
        }
      ],
      "source": [
        "clf2 = GridSearchCV(pipeline_2, param_grid=param_grid2, verbose=2, n_jobs=-1)\n",
        "clf2.fit(X_train, y_train)"
      ]
    },
    {
      "cell_type": "code",
      "execution_count": null,
      "metadata": {
        "id": "SDgtN7sdJUlu"
      },
      "outputs": [],
      "source": [
        "# Print the best hyperparameters\n",
        "print(\"Best Hyperparameters:\", clf2.best_params_)"
      ]
    },
    {
      "cell_type": "markdown",
      "metadata": {
        "id": "2mKecpNkJUlv"
      },
      "source": [
        "### 7. Test your model\n",
        "Show the accuracy, precision, and recall of the tuned model.  \n",
        "\n",
        "Since this project focuses on code quality, process, and  pipelines, there is no minimum performance metric needed to pass. However, make sure to fine tune your models for accuracy, precision and recall to make your project stand out - especially for your portfolio!"
      ]
    },
    {
      "cell_type": "code",
      "execution_count": null,
      "metadata": {
        "id": "W4JCxXbvJUlv"
      },
      "outputs": [],
      "source": [
        "y_pred = clf2.predict(X_test)\n",
        "y_pred_w_names = pd.DataFrame(y_pred, columns = y_test.columns)"
      ]
    },
    {
      "cell_type": "code",
      "execution_count": null,
      "metadata": {
        "id": "On0dQESYJUlv"
      },
      "outputs": [],
      "source": [
        "def get_metrics(test_value, predicted_value):\n",
        "    accuracy = accuracy_score(test_value,predicted_value)\n",
        "    precision =round(precision_score(test_value,predicted_value,average='micro'))\n",
        "    recall = recall_score(test_value,predicted_value,average='micro')\n",
        "    f1 = f1_score(test_value,predicted_value,average='micro')\n",
        "    return {'Accuracy':accuracy, 'f1 score':f1,'Precision':precision, 'Recall':recall}"
      ]
    },
    {
      "cell_type": "code",
      "execution_count": null,
      "metadata": {
        "id": "eFAgEEW7JUlw",
        "outputId": "93bab1a9-0675-4e45-9a58-77862ef9a08c"
      },
      "outputs": [
        {
          "data": {
            "text/html": [
              "<div>\n",
              "<style scoped>\n",
              "    .dataframe tbody tr th:only-of-type {\n",
              "        vertical-align: middle;\n",
              "    }\n",
              "\n",
              "    .dataframe tbody tr th {\n",
              "        vertical-align: top;\n",
              "    }\n",
              "\n",
              "    .dataframe thead th {\n",
              "        text-align: right;\n",
              "    }\n",
              "</style>\n",
              "<table border=\"1\" class=\"dataframe\">\n",
              "  <thead>\n",
              "    <tr style=\"text-align: right;\">\n",
              "      <th></th>\n",
              "      <th>Accuracy</th>\n",
              "      <th>Precision</th>\n",
              "      <th>Recall</th>\n",
              "      <th>f1 score</th>\n",
              "    </tr>\n",
              "  </thead>\n",
              "  <tbody>\n",
              "    <tr>\n",
              "      <th>0</th>\n",
              "      <td>0.794805</td>\n",
              "      <td>1.0</td>\n",
              "      <td>0.794805</td>\n",
              "      <td>0.794805</td>\n",
              "    </tr>\n",
              "    <tr>\n",
              "      <th>1</th>\n",
              "      <td>0.874408</td>\n",
              "      <td>1.0</td>\n",
              "      <td>0.874408</td>\n",
              "      <td>0.874408</td>\n",
              "    </tr>\n",
              "    <tr>\n",
              "      <th>2</th>\n",
              "      <td>0.993736</td>\n",
              "      <td>1.0</td>\n",
              "      <td>0.993736</td>\n",
              "      <td>0.993736</td>\n",
              "    </tr>\n",
              "    <tr>\n",
              "      <th>3</th>\n",
              "      <td>0.733537</td>\n",
              "      <td>1.0</td>\n",
              "      <td>0.733537</td>\n",
              "      <td>0.733537</td>\n",
              "    </tr>\n",
              "    <tr>\n",
              "      <th>4</th>\n",
              "      <td>0.919633</td>\n",
              "      <td>1.0</td>\n",
              "      <td>0.919633</td>\n",
              "      <td>0.919633</td>\n",
              "    </tr>\n",
              "    <tr>\n",
              "      <th>5</th>\n",
              "      <td>0.954163</td>\n",
              "      <td>1.0</td>\n",
              "      <td>0.954163</td>\n",
              "      <td>0.954163</td>\n",
              "    </tr>\n",
              "    <tr>\n",
              "      <th>6</th>\n",
              "      <td>0.969137</td>\n",
              "      <td>1.0</td>\n",
              "      <td>0.969137</td>\n",
              "      <td>0.969137</td>\n",
              "    </tr>\n",
              "    <tr>\n",
              "      <th>7</th>\n",
              "      <td>0.978762</td>\n",
              "      <td>1.0</td>\n",
              "      <td>0.978762</td>\n",
              "      <td>0.978762</td>\n",
              "    </tr>\n",
              "    <tr>\n",
              "      <th>8</th>\n",
              "      <td>0.970512</td>\n",
              "      <td>1.0</td>\n",
              "      <td>0.970512</td>\n",
              "      <td>0.970512</td>\n",
              "    </tr>\n",
              "    <tr>\n",
              "      <th>9</th>\n",
              "      <td>1.000000</td>\n",
              "      <td>1.0</td>\n",
              "      <td>1.000000</td>\n",
              "      <td>1.000000</td>\n",
              "    </tr>\n",
              "    <tr>\n",
              "      <th>10</th>\n",
              "      <td>0.942704</td>\n",
              "      <td>1.0</td>\n",
              "      <td>0.942704</td>\n",
              "      <td>0.942704</td>\n",
              "    </tr>\n",
              "    <tr>\n",
              "      <th>11</th>\n",
              "      <td>0.908480</td>\n",
              "      <td>1.0</td>\n",
              "      <td>0.908480</td>\n",
              "      <td>0.908480</td>\n",
              "    </tr>\n",
              "    <tr>\n",
              "      <th>12</th>\n",
              "      <td>0.924370</td>\n",
              "      <td>1.0</td>\n",
              "      <td>0.924370</td>\n",
              "      <td>0.924370</td>\n",
              "    </tr>\n",
              "    <tr>\n",
              "      <th>13</th>\n",
              "      <td>0.983652</td>\n",
              "      <td>1.0</td>\n",
              "      <td>0.983652</td>\n",
              "      <td>0.983652</td>\n",
              "    </tr>\n",
              "    <tr>\n",
              "      <th>14</th>\n",
              "      <td>0.978457</td>\n",
              "      <td>1.0</td>\n",
              "      <td>0.978457</td>\n",
              "      <td>0.978457</td>\n",
              "    </tr>\n",
              "    <tr>\n",
              "      <th>15</th>\n",
              "      <td>0.988846</td>\n",
              "      <td>1.0</td>\n",
              "      <td>0.988846</td>\n",
              "      <td>0.988846</td>\n",
              "    </tr>\n",
              "    <tr>\n",
              "      <th>16</th>\n",
              "      <td>0.969748</td>\n",
              "      <td>1.0</td>\n",
              "      <td>0.969748</td>\n",
              "      <td>0.969748</td>\n",
              "    </tr>\n",
              "    <tr>\n",
              "      <th>17</th>\n",
              "      <td>0.957219</td>\n",
              "      <td>1.0</td>\n",
              "      <td>0.957219</td>\n",
              "      <td>0.957219</td>\n",
              "    </tr>\n",
              "    <tr>\n",
              "      <th>18</th>\n",
              "      <td>0.868449</td>\n",
              "      <td>1.0</td>\n",
              "      <td>0.868449</td>\n",
              "      <td>0.868449</td>\n",
              "    </tr>\n",
              "    <tr>\n",
              "      <th>19</th>\n",
              "      <td>0.935982</td>\n",
              "      <td>1.0</td>\n",
              "      <td>0.935982</td>\n",
              "      <td>0.935982</td>\n",
              "    </tr>\n",
              "    <tr>\n",
              "      <th>20</th>\n",
              "      <td>0.956914</td>\n",
              "      <td>1.0</td>\n",
              "      <td>0.956914</td>\n",
              "      <td>0.956914</td>\n",
              "    </tr>\n",
              "    <tr>\n",
              "      <th>21</th>\n",
              "      <td>0.952636</td>\n",
              "      <td>1.0</td>\n",
              "      <td>0.952636</td>\n",
              "      <td>0.952636</td>\n",
              "    </tr>\n",
              "    <tr>\n",
              "      <th>22</th>\n",
              "      <td>0.980596</td>\n",
              "      <td>1.0</td>\n",
              "      <td>0.980596</td>\n",
              "      <td>0.980596</td>\n",
              "    </tr>\n",
              "    <tr>\n",
              "      <th>23</th>\n",
              "      <td>0.992361</td>\n",
              "      <td>1.0</td>\n",
              "      <td>0.992361</td>\n",
              "      <td>0.992361</td>\n",
              "    </tr>\n",
              "    <tr>\n",
              "      <th>24</th>\n",
              "      <td>0.990680</td>\n",
              "      <td>1.0</td>\n",
              "      <td>0.990680</td>\n",
              "      <td>0.990680</td>\n",
              "    </tr>\n",
              "    <tr>\n",
              "      <th>25</th>\n",
              "      <td>0.995264</td>\n",
              "      <td>1.0</td>\n",
              "      <td>0.995264</td>\n",
              "      <td>0.995264</td>\n",
              "    </tr>\n",
              "    <tr>\n",
              "      <th>26</th>\n",
              "      <td>0.988235</td>\n",
              "      <td>1.0</td>\n",
              "      <td>0.988235</td>\n",
              "      <td>0.988235</td>\n",
              "    </tr>\n",
              "    <tr>\n",
              "      <th>27</th>\n",
              "      <td>0.957678</td>\n",
              "      <td>1.0</td>\n",
              "      <td>0.957678</td>\n",
              "      <td>0.957678</td>\n",
              "    </tr>\n",
              "    <tr>\n",
              "      <th>28</th>\n",
              "      <td>0.835752</td>\n",
              "      <td>1.0</td>\n",
              "      <td>0.835752</td>\n",
              "      <td>0.835752</td>\n",
              "    </tr>\n",
              "    <tr>\n",
              "      <th>29</th>\n",
              "      <td>0.932468</td>\n",
              "      <td>1.0</td>\n",
              "      <td>0.932468</td>\n",
              "      <td>0.932468</td>\n",
              "    </tr>\n",
              "    <tr>\n",
              "      <th>30</th>\n",
              "      <td>0.927426</td>\n",
              "      <td>1.0</td>\n",
              "      <td>0.927426</td>\n",
              "      <td>0.927426</td>\n",
              "    </tr>\n",
              "    <tr>\n",
              "      <th>31</th>\n",
              "      <td>0.990374</td>\n",
              "      <td>1.0</td>\n",
              "      <td>0.990374</td>\n",
              "      <td>0.990374</td>\n",
              "    </tr>\n",
              "    <tr>\n",
              "      <th>32</th>\n",
              "      <td>0.952941</td>\n",
              "      <td>1.0</td>\n",
              "      <td>0.952941</td>\n",
              "      <td>0.952941</td>\n",
              "    </tr>\n",
              "    <tr>\n",
              "      <th>33</th>\n",
              "      <td>0.976929</td>\n",
              "      <td>1.0</td>\n",
              "      <td>0.976929</td>\n",
              "      <td>0.976929</td>\n",
              "    </tr>\n",
              "    <tr>\n",
              "      <th>34</th>\n",
              "      <td>0.947746</td>\n",
              "      <td>1.0</td>\n",
              "      <td>0.947746</td>\n",
              "      <td>0.947746</td>\n",
              "    </tr>\n",
              "    <tr>\n",
              "      <th>35</th>\n",
              "      <td>0.851795</td>\n",
              "      <td>1.0</td>\n",
              "      <td>0.851795</td>\n",
              "      <td>0.851795</td>\n",
              "    </tr>\n",
              "  </tbody>\n",
              "</table>\n",
              "</div>"
            ],
            "text/plain": [
              "    Accuracy  Precision    Recall  f1 score\n",
              "0   0.794805        1.0  0.794805  0.794805\n",
              "1   0.874408        1.0  0.874408  0.874408\n",
              "2   0.993736        1.0  0.993736  0.993736\n",
              "3   0.733537        1.0  0.733537  0.733537\n",
              "4   0.919633        1.0  0.919633  0.919633\n",
              "5   0.954163        1.0  0.954163  0.954163\n",
              "6   0.969137        1.0  0.969137  0.969137\n",
              "7   0.978762        1.0  0.978762  0.978762\n",
              "8   0.970512        1.0  0.970512  0.970512\n",
              "9   1.000000        1.0  1.000000  1.000000\n",
              "10  0.942704        1.0  0.942704  0.942704\n",
              "11  0.908480        1.0  0.908480  0.908480\n",
              "12  0.924370        1.0  0.924370  0.924370\n",
              "13  0.983652        1.0  0.983652  0.983652\n",
              "14  0.978457        1.0  0.978457  0.978457\n",
              "15  0.988846        1.0  0.988846  0.988846\n",
              "16  0.969748        1.0  0.969748  0.969748\n",
              "17  0.957219        1.0  0.957219  0.957219\n",
              "18  0.868449        1.0  0.868449  0.868449\n",
              "19  0.935982        1.0  0.935982  0.935982\n",
              "20  0.956914        1.0  0.956914  0.956914\n",
              "21  0.952636        1.0  0.952636  0.952636\n",
              "22  0.980596        1.0  0.980596  0.980596\n",
              "23  0.992361        1.0  0.992361  0.992361\n",
              "24  0.990680        1.0  0.990680  0.990680\n",
              "25  0.995264        1.0  0.995264  0.995264\n",
              "26  0.988235        1.0  0.988235  0.988235\n",
              "27  0.957678        1.0  0.957678  0.957678\n",
              "28  0.835752        1.0  0.835752  0.835752\n",
              "29  0.932468        1.0  0.932468  0.932468\n",
              "30  0.927426        1.0  0.927426  0.927426\n",
              "31  0.990374        1.0  0.990374  0.990374\n",
              "32  0.952941        1.0  0.952941  0.952941\n",
              "33  0.976929        1.0  0.976929  0.976929\n",
              "34  0.947746        1.0  0.947746  0.947746\n",
              "35  0.851795        1.0  0.851795  0.851795"
            ]
          },
          "execution_count": 58,
          "metadata": {},
          "output_type": "execute_result"
        }
      ],
      "source": [
        "train_results = []\n",
        "for column in y_test.columns:\n",
        "  result = get_metrics(y_test[column], y_pred_w_names[column])\n",
        "  train_results.append(result)\n",
        "train_results_df = pd.DataFrame(train_results)\n",
        "train_results_df\n",
        "\n",
        "#for i,column in enumerate(y_train.columns):\n",
        "#    result = get_metrics(y_test.loc[:,column].values,y_pred[:,i])\n",
        "#    train_results.append(result)"
      ]
    },
    {
      "cell_type": "markdown",
      "metadata": {
        "id": "lyB3LdoUJUlx"
      },
      "source": [
        "### 8. Try improving your model further. Here are a few ideas:\n",
        "* try other machine learning algorithms\n",
        "* add other features besides the TF-IDF"
      ]
    },
    {
      "cell_type": "code",
      "execution_count": null,
      "metadata": {
        "id": "TZ9ZgUEeJUlx"
      },
      "outputs": [],
      "source": [
        "#Trying to add different classifier\n",
        "pipeline_3 = Pipeline([\n",
        "    ('features', FeatureUnion([\n",
        "\n",
        "        ('text_pipeline', Pipeline([\n",
        "            ('vect', CountVectorizer(tokenizer=tokenize)),\n",
        "            ('tfidf', TfidfTransformer())\n",
        "        ])),\n",
        "\n",
        "        ('starting_verb', StartingVerbExtractor())\n",
        "    ])),\n",
        "\n",
        "    ('clf2', MultiOutputClassifier(KNeighborsClassifier()))\n",
        "])\n",
        "X_train, X_test, y_train, y_test = train_test_split(X, Y)\n",
        "\n",
        "pipeline_3.fit(X_train, y_train)\n",
        "\n",
        "#Predict desired values\n",
        "y_pred = pipeline_3.predict(X_test)\n",
        "\n",
        "#Transform predicted matrices and add column names same with y_test\n",
        "y_pred_w_names = pd.DataFrame(y_pred, columns = y_test.columns)\n",
        "\n",
        "#Print each output column and its related scores\n",
        "for column in y_test.columns:\n",
        "    print('column_name: ' + column + '\\n')\n",
        "    print(classification_report(y_test[column], y_pred_w_names[column]))"
      ]
    },
    {
      "cell_type": "markdown",
      "metadata": {
        "id": "Cf-x3douJUly"
      },
      "source": [
        "### 9. Export your model as a pickle file"
      ]
    },
    {
      "cell_type": "code",
      "execution_count": null,
      "metadata": {
        "id": "ceN3cDI4JUly"
      },
      "outputs": [],
      "source": [
        "import pickle\n",
        "pickle.dump(pipeline, open('model.pkl', 'wb'))"
      ]
    }
  ],
  "metadata": {
    "kernelspec": {
      "display_name": "Python 3",
      "language": "python",
      "name": "python3"
    },
    "language_info": {
      "codemirror_mode": {
        "name": "ipython",
        "version": 3
      },
      "file_extension": ".py",
      "mimetype": "text/x-python",
      "name": "python",
      "nbconvert_exporter": "python",
      "pygments_lexer": "ipython3",
      "version": "3.6.3"
    },
    "colab": {
      "provenance": []
    }
  },
  "nbformat": 4,
  "nbformat_minor": 0
}